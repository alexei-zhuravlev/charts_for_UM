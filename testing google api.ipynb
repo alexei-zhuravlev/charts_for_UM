{
 "cells": [
  {
   "cell_type": "markdown",
   "metadata": {
    "collapsed": true,
    "pycharm": {
     "name": "#%% md\n"
    }
   },
   "source": [
    "https://nbviewer.jupyter.org/urls/bitbucket.org/!api/2.0/snippets/datalytx/5exn54/a620bc20b206369f4a3c74485aac96c0cd16bd3e/files/Google%20Drive%20API%20Tutorial%20(1).json"
   ]
  },
  {
   "cell_type": "code",
   "execution_count": null,
   "outputs": [],
   "source": [
    "# Сначала устанавливаем клиентскую библиотеку Google API для Python\n",
    "!pip install --upgrade google-api-python-client"
   ],
   "metadata": {
    "collapsed": false,
    "pycharm": {
     "name": "#%%\n"
    }
   }
  },
  {
   "cell_type": "code",
   "execution_count": 2,
   "outputs": [],
   "source": [
    "from google.oauth2 import service_account\n",
    "from googleapiclient.http import MediaIoBaseDownload,MediaFileUpload\n",
    "from googleapiclient.discovery import build\n",
    "import pprint\n",
    "import io\n",
    "\n",
    "pp = pprint.PrettyPrinter(indent=4)"
   ],
   "metadata": {
    "collapsed": false,
    "pycharm": {
     "name": "#%%\n"
    }
   }
  },
  {
   "cell_type": "markdown",
   "source": [
    "Указываем Scopes. Scopes - это перечень возможностей,\n",
    "которыми будет обладать сервис, созданный в скрипте.\n",
    "Ниже приведены Scopes, которые относятся к API Google Drive\n",
    "(из официальной документации https://developers.google.com/identity/protocols/googlescopes).\n",
    "01_drive_scopes.png Как видно, разные Scope предоставляют разный уровень доступа к данным.\n",
    "Нас интересует Scope \"https://www.googleapis.com/auth/drive\", который позволяет просматривать,\n",
    "редактировать, удалять или создавать файлы на Google Диске.\n",
    "\n",
    "Также указываем в переменной SERVICE_ACCOUNT_FILE путь к файлу с ключами сервисного аккаунта."
   ],
   "metadata": {
    "collapsed": false,
    "pycharm": {
     "name": "#%% md\n"
    }
   }
  },
  {
   "cell_type": "code",
   "execution_count": 3,
   "outputs": [],
   "source": [
    "SCOPES = ['https://www.googleapis.com/auth/drive']\n",
    "SERVICE_ACCOUNT_FILE = '/Users/alexeizh/PycharmProjects/google api/charts-for-um-e7580d8049ff.json'\n"
   ],
   "metadata": {
    "collapsed": false,
    "pycharm": {
     "name": "#%%\n"
    }
   }
  },
  {
   "cell_type": "markdown",
   "source": [
    "Создаем Credentials (учетные данные), указав путь к сервисному аккаунту, а также заданные Scopes.\n",
    "А затем создаем сервис, который будет использовать 3ю версию REST API Google Drive,\n",
    "отправляя запросы из-под учетных данных credentials."
   ],
   "metadata": {
    "collapsed": false,
    "pycharm": {
     "name": "#%% md\n"
    }
   }
  },
  {
   "cell_type": "code",
   "execution_count": 4,
   "outputs": [],
   "source": [
    "credentials = service_account.Credentials.from_service_account_file(\n",
    "        SERVICE_ACCOUNT_FILE, scopes=SCOPES)\n",
    "\n",
    "service = build('drive', 'v3', credentials=credentials)"
   ],
   "metadata": {
    "collapsed": false,
    "pycharm": {
     "name": "#%%\n"
    }
   }
  },
  {
   "cell_type": "markdown",
   "source": [
    "Теперь можно получить список файлов и папок, к которым имеет доступ сервис.\n",
    "Для этого выполним запрос list, выдающий список файлов, со следующими параметрами:\n",
    "\n",
    "- pageSize - количество результатов выдачи. Можете смело ставить максимальное значение 1000.\n",
    "У меня стоит 10 результатов, чтобы показать как быть, когда нужно получить результаты по следующей страницы результатов\n",
    "- параметр files() в fields - параметр, указывающий, что нужно возвращать список файлов,\n",
    "где в скобках указан список полей для файлов, которые нужно показывать в результатах выдачи.\n",
    "Со всеми возможными полями можно познакомиться в документации\n",
    "(https://developers.google.com/drive/api/v3/reference/files) в разделе \"Valid fields for files.list\".\n",
    "У меня указаны поля для файлов: id (идентификатор файла в Drive), name (имя) и mimeType (тип файла).\n",
    "Чуть дальше мы рассмотрим пример запроса с большим количеством полей\n",
    "- nextPageToken в fields - это токен следующей страницы, если все результаты не помещаются в один ответ"
   ],
   "metadata": {
    "collapsed": false,
    "pycharm": {
     "name": "#%% md\n"
    }
   }
  },
  {
   "cell_type": "code",
   "execution_count": 5,
   "outputs": [],
   "source": [
    "results = service.files().list(pageSize=10,\n",
    "                               fields=\"nextPageToken, files(id, name, mimeType)\").execute()"
   ],
   "metadata": {
    "collapsed": false,
    "pycharm": {
     "name": "#%%\n"
    }
   }
  },
  {
   "cell_type": "code",
   "execution_count": 6,
   "outputs": [
    {
     "name": "stdout",
     "output_type": "stream",
     "text": [
      "{   'files': [   {   'id': '1pJAkpMmh9lW47XRAJ0opAlb9RGc_p0we',\n",
      "                     'mimeType': 'application/vnd.google-apps.folder',\n",
      "                     'name': 'charts_for_UM'},\n",
      "                 {   'id': '1X3LNVaMBeuA4fHNHGbiO8jOSd1wlh4Z5',\n",
      "                     'mimeType': 'application/vnd.openxmlformats-officedocument.spreadsheetml.sheet',\n",
      "                     'name': 'charts.xlsx'}]}\n"
     ]
    }
   ],
   "source": [
    "pp.pprint(results)"
   ],
   "metadata": {
    "collapsed": false,
    "pycharm": {
     "name": "#%%\n"
    }
   }
  },
  {
   "cell_type": "code",
   "execution_count": 7,
   "outputs": [
    {
     "name": "stdout",
     "output_type": "stream",
     "text": [
      "2\n"
     ]
    }
   ],
   "source": [
    "print(len(results.get('files')))"
   ],
   "metadata": {
    "collapsed": false,
    "pycharm": {
     "name": "#%%\n"
    }
   }
  },
  {
   "cell_type": "markdown",
   "source": [
    "Дальше давайте рассмотрим какие ещё поля можно использовать для списка возвращаемых файлов.\n",
    "Как я уже писал выше, со всеми полями можно ознакомиться по ссылке\n",
    "https://developers.google.com/drive/api/v3/reference/files. Давайте рассмотрим самые полезные из них:\n",
    "\n",
    "- parents - ID папки, в которой расположен файл/подпапка\n",
    "- createdTime - дата создания файла/папки\n",
    "- permissions - перечень прав доступа к файлу\n",
    "- quotaBytesUsed - сколько места от квоты хранилища занимает файл (в байтах)"
   ],
   "metadata": {
    "collapsed": false,
    "pycharm": {
     "name": "#%% md\n"
    }
   }
  },
  {
   "cell_type": "code",
   "execution_count": 8,
   "outputs": [],
   "source": [
    "results = service.files().list(\n",
    "        pageSize=10, fields=\"nextPageToken, files(id, name, mimeType, parents, createdTime, permissions, quotaBytesUsed)\").execute()"
   ],
   "metadata": {
    "collapsed": false,
    "pycharm": {
     "name": "#%%\n"
    }
   }
  },
  {
   "cell_type": "code",
   "execution_count": 10,
   "outputs": [
    {
     "name": "stdout",
     "output_type": "stream",
     "text": [
      "{   'createdTime': '2021-05-31T15:20:43.820Z',\n",
      "    'id': '1X3LNVaMBeuA4fHNHGbiO8jOSd1wlh4Z5',\n",
      "    'mimeType': 'application/vnd.openxmlformats-officedocument.spreadsheetml.sheet',\n",
      "    'name': 'charts.xlsx',\n",
      "    'parents': ['1pJAkpMmh9lW47XRAJ0opAlb9RGc_p0we'],\n",
      "    'permissions': [   {   'deleted': False,\n",
      "                           'displayName': 'alexeizhuravlev@charts-for-um.iam.gserviceaccount.com',\n",
      "                           'emailAddress': 'alexeizhuravlev@charts-for-um.iam.gserviceaccount.com',\n",
      "                           'id': '13902982436117014445',\n",
      "                           'kind': 'drive#permission',\n",
      "                           'role': 'writer',\n",
      "                           'type': 'user'},\n",
      "                       {   'deleted': False,\n",
      "                           'displayName': 'Alexei Zhuravlev',\n",
      "                           'emailAddress': 'alexeizh@gmail.com',\n",
      "                           'id': '11165025400987331600',\n",
      "                           'kind': 'drive#permission',\n",
      "                           'photoLink': 'https://lh3.googleusercontent.com/a-/AOh14Gg3960X3uzLIotdS17-me6VLXXgQjYjKmDTgWpkTm0=s64',\n",
      "                           'role': 'owner',\n",
      "                           'type': 'user'}],\n",
      "    'quotaBytesUsed': '122074'}\n"
     ]
    }
   ],
   "source": [
    "pp.pprint(results.get('files')[1])"
   ],
   "metadata": {
    "collapsed": false,
    "pycharm": {
     "name": "#%%\n"
    }
   }
  },
  {
   "cell_type": "markdown",
   "source": [
    "### Теперь рассмотрим как скачивать файлы из Google Drive.\n",
    "\n",
    "Для этого нам понадобится создать запрос request для получения файла.\n",
    "После этого задаем интерфейс fh для записи в файл с помощью библиотеки io,\n",
    "указав в filename название файла (таким образом, можно сохранять файлы из Google Drive сразу с другим названием).\n",
    "Затем создаем экземпляр класса MediaIoBaseDownload,\n",
    "передав наш интерфейс для записи файла fh и запрос для скачивания файла request.\n",
    "Следующим шагом скачиваем файл по небольшим кусочкам (чанкам) с помощью метода next_chunk.\n",
    "\n",
    "Если из предыдущего описания вам мало что понятно,\n",
    "не запаривайтесь, просто укажите свой file_id и filename, и всё у вас будет в порядке."
   ],
   "metadata": {
    "collapsed": false,
    "pycharm": {
     "name": "#%% md\n"
    }
   }
  },
  {
   "cell_type": "code",
   "execution_count": 17,
   "outputs": [
    {
     "name": "stdout",
     "output_type": "stream",
     "text": [
      "Download 100%.\n"
     ]
    }
   ],
   "source": [
    "file_id = '1X3LNVaMBeuA4fHNHGbiO8jOSd1wlh4Z5'\n",
    "request = service.files().get_media(fileId=file_id)\n",
    "filename = 'charts.xlsx'\n",
    "fh = io.FileIO(filename, 'wb')\n",
    "downloader = MediaIoBaseDownload(fh, request)\n",
    "done = False\n",
    "while done is False:\n",
    "    status, done = downloader.next_chunk()\n",
    "    print (\"Download %d%%.\" % int(status.progress() * 100))"
   ],
   "metadata": {
    "collapsed": false,
    "pycharm": {
     "name": "#%%\n"
    }
   }
  },
  {
   "cell_type": "markdown",
   "source": [
    "Файлы Google Sheets или Google Docs можно конвертировать в другие форматы,\n",
    "указав параметр mimeType в функции export_media\n",
    "(обратите внимание, что в предыдущем примере скачивания файла мы использоали другую функцию get_media).\n",
    "Например, файл Google Sheets можно конвертировать и скачать в виде файла Excel."
   ],
   "metadata": {
    "collapsed": false
   }
  },
  {
   "cell_type": "code",
   "execution_count": null,
   "outputs": [],
   "source": [
    "# file_id = '1X3LNVaMBeuA4fHNHGbiO8jOSd1wlh4Z5'\n",
    "# request = service.files().export_media(fileId=file_id,\n",
    "#                                              mimeType='application/vnd.openxmlformats-officedocument.spreadsheetml.sheet')\n",
    "# filename = 'home/charts_for_UM/charts.xlsx'\n",
    "# fh = io.FileIO(filename, 'wb')\n",
    "# downloader = MediaIoBaseDownload(fh, request)\n",
    "# done = False\n",
    "# while done is False:\n",
    "#     status, done = downloader.next_chunk()\n",
    "#     print (\"Download %d%%.\" % int(status.progress() * 100))\n"
   ],
   "metadata": {
    "collapsed": false,
    "pycharm": {
     "name": "#%%\n"
    }
   }
  },
  {
   "cell_type": "markdown",
   "source": [
    "Затем скачанный файл можно загнать в датафрейм.\n",
    "Это достаточно простой способ получить данные из Google Sheet в pandas-dataframe,\n",
    "но есть и другие способы, например, воспользоваться библиотекой gspread\n",
    "(https://riptutorial.com/pandas/example/24056/collect-google-spreadsheet-data-into-pandas-dataframe)."
   ],
   "metadata": {
    "collapsed": false
   }
  },
  {
   "cell_type": "code",
   "execution_count": 18,
   "outputs": [
    {
     "data": {
      "text/plain": "                      2021-04-29 00:00:00  \\\n0  1, Masked Wolf, Astronaut In The Ocean   \n1              2, Artik & Asti, Истеричка   \n2                          3, Ramil', Сон   \n3       4, Ваня Дмитриенко, Венера-Юпитер   \n4         5, Султан Лагучев, Горький вкус   \n\n                               2021-05-03  \\\n0  1, Masked Wolf, Astronaut In The Ocean   \n1              2, Artik & Asti, Истеричка   \n2         3, Султан Лагучев, Горький вкус   \n3                 4, ХАБИБ, Ягода малинка   \n4       5, Ваня Дмитриенко, Венера-Юпитер   \n\n                               2021-05-04  \\\n0  1, Masked Wolf, Astronaut In The Ocean   \n1              2, Artik & Asti, Истеричка   \n2         3, Султан Лагучев, Горький вкус   \n3       4, Ваня Дмитриенко, Венера-Юпитер   \n4                          5, Ramil', Сон   \n\n                               2021-05-05  \\\n0  1, Masked Wolf, Astronaut In The Ocean   \n1              2, Artik & Asti, Истеричка   \n2       3, Ваня Дмитриенко, Венера-Юпитер   \n3                          4, Ramil', Сон   \n4         5, Султан Лагучев, Горький вкус   \n\n                               2021-05-06  \\\n0  1, Masked Wolf, Astronaut In The Ocean   \n1              2, Artik & Asti, Истеричка   \n2                          3, Ramil', Сон   \n3       4, Ваня Дмитриенко, Венера-Юпитер   \n4         5, Султан Лагучев, Горький вкус   \n\n                               2021-05-07  \\\n0  1, Masked Wolf, Astronaut In The Ocean   \n1              2, Artik & Asti, Истеричка   \n2                          3, Ramil', Сон   \n3         4, Султан Лагучев, Горький вкус   \n4       5, Ваня Дмитриенко, Венера-Юпитер   \n\n                               2021-05-08  \\\n0  1, Masked Wolf, Astronaut In The Ocean   \n1                       2, JONY, Камнепад   \n2              3, Artik & Asti, Истеричка   \n3                          4, Ramil', Сон   \n4         5, Султан Лагучев, Горький вкус   \n\n                               2021-05-09  \\\n0  1, Masked Wolf, Astronaut In The Ocean   \n1              2, Artik & Asti, Истеричка   \n2             3, Лев Лещенко, День Победы   \n3         4, Султан Лагучев, Горький вкус   \n4                 5, ХАБИБ, Ягода малинка   \n\n                                          2021-05-10  \\\n0                        1, Лев Лещенко, День Победы   \n1  2, Академический Ансамбль песни и пляски Росси...   \n2                        3, Тамара Синявская, Катюша   \n3  4, Николай Назаров, Отдельный показательный ор...   \n4   5, Марк Бернес, Журавлииз фильма «Летят журавли»   \n\n                               2021-05-11  ...  \\\n0  1, Masked Wolf, Astronaut In The Ocean  ...   \n1              2, Artik & Asti, Истеричка  ...   \n2                          3, Ramil', Сон  ...   \n3       4, Ваня Дмитриенко, Венера-Юпитер  ...   \n4         5, Султан Лагучев, Горький вкус  ...   \n\n                                     2021-05-22  \\\n0                    1, HammAli & Navai, Птичка   \n1                         2, VAVAN, Лилая, АМУР   \n2                3, twenty one pilots, Saturday   \n3  4, NЮ, kavabanga Depo kolibri, Не держи меня   \n4                         5, MORGENSHTERN, SHOW   \n\n                                          2021-05-23  \\\n0                         1, HammAli & Navai, Птичка   \n1  2, Manizha, RUSSIAN WOMANРоссия на «Евровидени...   \n2             3, Masked Wolf, Astronaut In The Ocean   \n3                         4, Artik & Asti, Истеричка   \n4                              5, MORGENSHTERN, SHOW   \n\n                                          2021-05-24  \\\n0                         1, HammAli & Navai, Птичка   \n1  2, Måneskin, ZITTI E BUONIИталия. Победитель н...   \n2  3, Manizha, RUSSIAN WOMANРоссия на «Евровидени...   \n3             4, Masked Wolf, Astronaut In The Ocean   \n4                 5, DEAD BLONDE, Мальчик на девятке   \n\n                                          2021-05-25  \\\n0                         1, HammAli & Navai, Птичка   \n1  2, Måneskin, ZITTI E BUONIИталия. Победитель н...   \n2             3, Masked Wolf, Astronaut In The Ocean   \n3                 4, DEAD BLONDE, Мальчик на девятке   \n4  5, Manizha, RUSSIAN WOMANРоссия на «Евровидени...   \n\n                                          2021-05-26  \\\n0                         1, HammAli & Navai, Птичка   \n1  2, Måneskin, ZITTI E BUONIИталия. Победитель н...   \n2             3, Masked Wolf, Astronaut In The Ocean   \n3                 4, DEAD BLONDE, Мальчик на девятке   \n4                              5, MORGENSHTERN, SHOW   \n\n                                          2021-05-27  \\\n0                         1, HammAli & Navai, Птичка   \n1  2, Måneskin, ZITTI E BUONIИталия. Победитель н...   \n2             3, Masked Wolf, Astronaut In The Ocean   \n3                 4, DEAD BLONDE, Мальчик на девятке   \n4                         5, Artik & Asti, Истеричка   \n\n                                          2021-05-28  \\\n0                         1, HammAli & Navai, Птичка   \n1             2, Masked Wolf, Astronaut In The Ocean   \n2  3, Måneskin, ZITTI E BUONIИталия. Победитель н...   \n3                 4, DEAD BLONDE, Мальчик на девятке   \n4                         5, Artik & Asti, Истеричка   \n\n                                          2021-05-29  \\\n0                         1, HammAli & Navai, Птичка   \n1             2, Masked Wolf, Astronaut In The Ocean   \n2                 3, DEAD BLONDE, Мальчик на девятке   \n3  4, Måneskin, ZITTI E BUONIИталия. Победитель н...   \n4                          5, Мот, LYRIQ, Не Бруклин   \n\n                               2021-05-30  \\\n0              1, HammAli & Navai, Птичка   \n1  2, Masked Wolf, Astronaut In The Ocean   \n2      3, DEAD BLONDE, Мальчик на девятке   \n3         4, Султан Лагучев, Горький вкус   \n4              5, Artik & Asti, Истеричка   \n\n                                          2021-05-31  \n0                         1, HammAli & Navai, Птичка  \n1             2, Masked Wolf, Astronaut In The Ocean  \n2                 3, DEAD BLONDE, Мальчик на девятке  \n3  4, Måneskin, ZITTI E BUONIИталия. Победитель н...  \n4                         5, Artik & Asti, Истеричка  \n\n[5 rows x 30 columns]",
      "text/html": "<div>\n<style scoped>\n    .dataframe tbody tr th:only-of-type {\n        vertical-align: middle;\n    }\n\n    .dataframe tbody tr th {\n        vertical-align: top;\n    }\n\n    .dataframe thead th {\n        text-align: right;\n    }\n</style>\n<table border=\"1\" class=\"dataframe\">\n  <thead>\n    <tr style=\"text-align: right;\">\n      <th></th>\n      <th>2021-04-29 00:00:00</th>\n      <th>2021-05-03</th>\n      <th>2021-05-04</th>\n      <th>2021-05-05</th>\n      <th>2021-05-06</th>\n      <th>2021-05-07</th>\n      <th>2021-05-08</th>\n      <th>2021-05-09</th>\n      <th>2021-05-10</th>\n      <th>2021-05-11</th>\n      <th>...</th>\n      <th>2021-05-22</th>\n      <th>2021-05-23</th>\n      <th>2021-05-24</th>\n      <th>2021-05-25</th>\n      <th>2021-05-26</th>\n      <th>2021-05-27</th>\n      <th>2021-05-28</th>\n      <th>2021-05-29</th>\n      <th>2021-05-30</th>\n      <th>2021-05-31</th>\n    </tr>\n  </thead>\n  <tbody>\n    <tr>\n      <th>0</th>\n      <td>1, Masked Wolf, Astronaut In The Ocean</td>\n      <td>1, Masked Wolf, Astronaut In The Ocean</td>\n      <td>1, Masked Wolf, Astronaut In The Ocean</td>\n      <td>1, Masked Wolf, Astronaut In The Ocean</td>\n      <td>1, Masked Wolf, Astronaut In The Ocean</td>\n      <td>1, Masked Wolf, Astronaut In The Ocean</td>\n      <td>1, Masked Wolf, Astronaut In The Ocean</td>\n      <td>1, Masked Wolf, Astronaut In The Ocean</td>\n      <td>1, Лев Лещенко, День Победы</td>\n      <td>1, Masked Wolf, Astronaut In The Ocean</td>\n      <td>...</td>\n      <td>1, HammAli &amp; Navai, Птичка</td>\n      <td>1, HammAli &amp; Navai, Птичка</td>\n      <td>1, HammAli &amp; Navai, Птичка</td>\n      <td>1, HammAli &amp; Navai, Птичка</td>\n      <td>1, HammAli &amp; Navai, Птичка</td>\n      <td>1, HammAli &amp; Navai, Птичка</td>\n      <td>1, HammAli &amp; Navai, Птичка</td>\n      <td>1, HammAli &amp; Navai, Птичка</td>\n      <td>1, HammAli &amp; Navai, Птичка</td>\n      <td>1, HammAli &amp; Navai, Птичка</td>\n    </tr>\n    <tr>\n      <th>1</th>\n      <td>2, Artik &amp; Asti, Истеричка</td>\n      <td>2, Artik &amp; Asti, Истеричка</td>\n      <td>2, Artik &amp; Asti, Истеричка</td>\n      <td>2, Artik &amp; Asti, Истеричка</td>\n      <td>2, Artik &amp; Asti, Истеричка</td>\n      <td>2, Artik &amp; Asti, Истеричка</td>\n      <td>2, JONY, Камнепад</td>\n      <td>2, Artik &amp; Asti, Истеричка</td>\n      <td>2, Академический Ансамбль песни и пляски Росси...</td>\n      <td>2, Artik &amp; Asti, Истеричка</td>\n      <td>...</td>\n      <td>2, VAVAN, Лилая, АМУР</td>\n      <td>2, Manizha, RUSSIAN WOMANРоссия на «Евровидени...</td>\n      <td>2, Måneskin, ZITTI E BUONIИталия. Победитель н...</td>\n      <td>2, Måneskin, ZITTI E BUONIИталия. Победитель н...</td>\n      <td>2, Måneskin, ZITTI E BUONIИталия. Победитель н...</td>\n      <td>2, Måneskin, ZITTI E BUONIИталия. Победитель н...</td>\n      <td>2, Masked Wolf, Astronaut In The Ocean</td>\n      <td>2, Masked Wolf, Astronaut In The Ocean</td>\n      <td>2, Masked Wolf, Astronaut In The Ocean</td>\n      <td>2, Masked Wolf, Astronaut In The Ocean</td>\n    </tr>\n    <tr>\n      <th>2</th>\n      <td>3, Ramil', Сон</td>\n      <td>3, Султан Лагучев, Горький вкус</td>\n      <td>3, Султан Лагучев, Горький вкус</td>\n      <td>3, Ваня Дмитриенко, Венера-Юпитер</td>\n      <td>3, Ramil', Сон</td>\n      <td>3, Ramil', Сон</td>\n      <td>3, Artik &amp; Asti, Истеричка</td>\n      <td>3, Лев Лещенко, День Победы</td>\n      <td>3, Тамара Синявская, Катюша</td>\n      <td>3, Ramil', Сон</td>\n      <td>...</td>\n      <td>3, twenty one pilots, Saturday</td>\n      <td>3, Masked Wolf, Astronaut In The Ocean</td>\n      <td>3, Manizha, RUSSIAN WOMANРоссия на «Евровидени...</td>\n      <td>3, Masked Wolf, Astronaut In The Ocean</td>\n      <td>3, Masked Wolf, Astronaut In The Ocean</td>\n      <td>3, Masked Wolf, Astronaut In The Ocean</td>\n      <td>3, Måneskin, ZITTI E BUONIИталия. Победитель н...</td>\n      <td>3, DEAD BLONDE, Мальчик на девятке</td>\n      <td>3, DEAD BLONDE, Мальчик на девятке</td>\n      <td>3, DEAD BLONDE, Мальчик на девятке</td>\n    </tr>\n    <tr>\n      <th>3</th>\n      <td>4, Ваня Дмитриенко, Венера-Юпитер</td>\n      <td>4, ХАБИБ, Ягода малинка</td>\n      <td>4, Ваня Дмитриенко, Венера-Юпитер</td>\n      <td>4, Ramil', Сон</td>\n      <td>4, Ваня Дмитриенко, Венера-Юпитер</td>\n      <td>4, Султан Лагучев, Горький вкус</td>\n      <td>4, Ramil', Сон</td>\n      <td>4, Султан Лагучев, Горький вкус</td>\n      <td>4, Николай Назаров, Отдельный показательный ор...</td>\n      <td>4, Ваня Дмитриенко, Венера-Юпитер</td>\n      <td>...</td>\n      <td>4, NЮ, kavabanga Depo kolibri, Не держи меня</td>\n      <td>4, Artik &amp; Asti, Истеричка</td>\n      <td>4, Masked Wolf, Astronaut In The Ocean</td>\n      <td>4, DEAD BLONDE, Мальчик на девятке</td>\n      <td>4, DEAD BLONDE, Мальчик на девятке</td>\n      <td>4, DEAD BLONDE, Мальчик на девятке</td>\n      <td>4, DEAD BLONDE, Мальчик на девятке</td>\n      <td>4, Måneskin, ZITTI E BUONIИталия. Победитель н...</td>\n      <td>4, Султан Лагучев, Горький вкус</td>\n      <td>4, Måneskin, ZITTI E BUONIИталия. Победитель н...</td>\n    </tr>\n    <tr>\n      <th>4</th>\n      <td>5, Султан Лагучев, Горький вкус</td>\n      <td>5, Ваня Дмитриенко, Венера-Юпитер</td>\n      <td>5, Ramil', Сон</td>\n      <td>5, Султан Лагучев, Горький вкус</td>\n      <td>5, Султан Лагучев, Горький вкус</td>\n      <td>5, Ваня Дмитриенко, Венера-Юпитер</td>\n      <td>5, Султан Лагучев, Горький вкус</td>\n      <td>5, ХАБИБ, Ягода малинка</td>\n      <td>5, Марк Бернес, Журавлииз фильма «Летят журавли»</td>\n      <td>5, Султан Лагучев, Горький вкус</td>\n      <td>...</td>\n      <td>5, MORGENSHTERN, SHOW</td>\n      <td>5, MORGENSHTERN, SHOW</td>\n      <td>5, DEAD BLONDE, Мальчик на девятке</td>\n      <td>5, Manizha, RUSSIAN WOMANРоссия на «Евровидени...</td>\n      <td>5, MORGENSHTERN, SHOW</td>\n      <td>5, Artik &amp; Asti, Истеричка</td>\n      <td>5, Artik &amp; Asti, Истеричка</td>\n      <td>5, Мот, LYRIQ, Не Бруклин</td>\n      <td>5, Artik &amp; Asti, Истеричка</td>\n      <td>5, Artik &amp; Asti, Истеричка</td>\n    </tr>\n  </tbody>\n</table>\n<p>5 rows × 30 columns</p>\n</div>"
     },
     "execution_count": 18,
     "metadata": {},
     "output_type": "execute_result"
    }
   ],
   "source": [
    "import pandas as pd\n",
    "df = pd.read_excel('charts.xlsx', sheet_name = 'Чарт Yandex')\n",
    "df.head(5)"
   ],
   "metadata": {
    "collapsed": false,
    "pycharm": {
     "name": "#%%\n"
    }
   }
  },
  {
   "cell_type": "markdown",
   "source": [
    "Рассмотрим простой пример загрузки файла в папку.\n",
    "Во-первых, нужно указать folder_id - id папки (его можно получить в адресной строке браузера, зайдя в папку,\n",
    "либо получив все файлы и папки методом list).\n",
    "Также нужно указать название name, с которым файл загрузится на Google Drive.\n",
    "Это название может быть отличным от исходного названия файла.\n",
    "Параметры folder_id и name передаем в словарь file_metadata,\n",
    "в котором задаются метаданные загружаемого файла.\n",
    "В переменной file_path указываем путь к файлу.\n",
    "Создаем объект media, в котором будет указание по какому пути находится загружаемый файл,\n",
    "а также указание, что мы будем использовать возобновляемую загрузку,\n",
    "что позволит нам загружать большие файлы.\n",
    "Google рекомендует (https://developers.google.com/drive/api/v3/manage-uploads)\n",
    "использовать этот тип загрузки для файлов больше 5 мегабайт.\n",
    "Затем выполняем функцию create, которая позволит загрузить файл на Google Drive."
   ],
   "metadata": {
    "collapsed": false,
    "pycharm": {
     "name": "#%% md\n"
    }
   }
  },
  {
   "cell_type": "code",
   "execution_count": 31,
   "outputs": [
    {
     "name": "stdout",
     "output_type": "stream",
     "text": [
      "{'id': '1_VR_mC2vl7w_J8DbSoWTbagEG_j_EcGy'}\n"
     ]
    }
   ],
   "source": [
    "folder_id = '1pJAkpMmh9lW47XRAJ0opAlb9RGc_p0we'\n",
    "name = 'charts.xlsx'\n",
    "file_path = 'charts.xlsx'\n",
    "file_metadata = {\n",
    "                'name': name,\n",
    "                'parents': [folder_id]\n",
    "            }\n",
    "media = MediaFileUpload(file_path, resumable=True)\n",
    "r = service.files().create(body=file_metadata, media_body=media, fields='id').execute()\n",
    "pp.pprint(r)"
   ],
   "metadata": {
    "collapsed": false,
    "pycharm": {
     "name": "#%%\n"
    }
   }
  },
  {
   "cell_type": "code",
   "execution_count": 42,
   "outputs": [],
   "source": [
    "results = service.files().list(pageSize=10,\n",
    "                               fields=\"nextPageToken, files(id, name, mimeType)\").execute()"
   ],
   "metadata": {
    "collapsed": false,
    "pycharm": {
     "name": "#%%\n"
    }
   }
  },
  {
   "cell_type": "code",
   "execution_count": 43,
   "outputs": [
    {
     "data": {
      "text/plain": "[{'id': '1pJAkpMmh9lW47XRAJ0opAlb9RGc_p0we',\n  'name': 'charts_for_UM',\n  'mimeType': 'application/vnd.google-apps.folder'}]"
     },
     "execution_count": 43,
     "metadata": {},
     "output_type": "execute_result"
    }
   ],
   "source": [
    "results['files']"
   ],
   "metadata": {
    "collapsed": false,
    "pycharm": {
     "name": "#%%\n"
    }
   }
  },
  {
   "cell_type": "markdown",
   "source": [
    "Можно удалить файл, вызвав функцию delete."
   ],
   "metadata": {
    "collapsed": false,
    "pycharm": {
     "name": "#%% md\n"
    }
   }
  },
  {
   "cell_type": "code",
   "execution_count": 41,
   "outputs": [
    {
     "data": {
      "text/plain": "''"
     },
     "execution_count": 41,
     "metadata": {},
     "output_type": "execute_result"
    }
   ],
   "source": [
    "service.files().delete(fileId='14tbaMpoRepvnaWXzbilXfylu6GJCZQBD').execute()"
   ],
   "metadata": {
    "collapsed": false,
    "pycharm": {
     "name": "#%%\n"
    }
   }
  },
  {
   "cell_type": "code",
   "execution_count": 1,
   "outputs": [],
   "source": [
    "import google\n"
   ],
   "metadata": {
    "collapsed": false,
    "pycharm": {
     "name": "#%%\n"
    }
   }
  },
  {
   "cell_type": "code",
   "execution_count": 2,
   "outputs": [],
   "source": [
    "import googleapiclient"
   ],
   "metadata": {
    "collapsed": false,
    "pycharm": {
     "name": "#%%\n"
    }
   }
  },
  {
   "cell_type": "code",
   "execution_count": null,
   "outputs": [],
   "source": [],
   "metadata": {
    "collapsed": false,
    "pycharm": {
     "name": "#%%\n"
    }
   }
  }
 ],
 "metadata": {
  "kernelspec": {
   "display_name": "Python 3",
   "language": "python",
   "name": "python3"
  },
  "language_info": {
   "codemirror_mode": {
    "name": "ipython",
    "version": 2
   },
   "file_extension": ".py",
   "mimetype": "text/x-python",
   "name": "python",
   "nbconvert_exporter": "python",
   "pygments_lexer": "ipython2",
   "version": "2.7.6"
  }
 },
 "nbformat": 4,
 "nbformat_minor": 0
}